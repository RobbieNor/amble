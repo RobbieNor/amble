{
 "metadata": {
  "name": "",
  "signature": "sha256:9fae7a5b4edc476f1b7b142bedd9c90557827c458f139bb7663b64485902dffc"
 },
 "nbformat": 3,
 "nbformat_minor": 0,
 "worksheets": [
  {
   "cells": [
    {
     "cell_type": "code",
     "collapsed": false,
     "input": [],
     "language": "python",
     "metadata": {},
     "outputs": []
    }
   ],
   "metadata": {}
  }
 ]
}